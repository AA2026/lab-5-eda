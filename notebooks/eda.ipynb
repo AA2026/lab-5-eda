{
 "cells": [
  {
   "cell_type": "markdown",
   "id": "d479d5b6",
   "metadata": {},
   "source": [
    "# Lab 5 | EDA & Visualization"
   ]
  },
  {
   "cell_type": "markdown",
   "id": "b6ad8483",
   "metadata": {},
   "source": [
    "## Task A"
   ]
  },
  {
   "cell_type": "code",
   "execution_count": 1,
   "id": "914131b1",
   "metadata": {},
   "outputs": [
    {
     "data": {
      "text/html": [
       "<div>\n",
       "<style scoped>\n",
       "    .dataframe tbody tr th:only-of-type {\n",
       "        vertical-align: middle;\n",
       "    }\n",
       "\n",
       "    .dataframe tbody tr th {\n",
       "        vertical-align: top;\n",
       "    }\n",
       "\n",
       "    .dataframe thead th {\n",
       "        text-align: right;\n",
       "    }\n",
       "</style>\n",
       "<table border=\"1\" class=\"dataframe\">\n",
       "  <thead>\n",
       "    <tr style=\"text-align: right;\">\n",
       "      <th></th>\n",
       "      <th>student_id</th>\n",
       "      <th>age</th>\n",
       "      <th>gpa</th>\n",
       "      <th>gender</th>\n",
       "      <th>major</th>\n",
       "      <th>year</th>\n",
       "    </tr>\n",
       "  </thead>\n",
       "  <tbody>\n",
       "    <tr>\n",
       "      <th>0</th>\n",
       "      <td>1</td>\n",
       "      <td>14</td>\n",
       "      <td>NaN</td>\n",
       "      <td>F</td>\n",
       "      <td>Economics</td>\n",
       "      <td>freshman</td>\n",
       "    </tr>\n",
       "    <tr>\n",
       "      <th>1</th>\n",
       "      <td>2</td>\n",
       "      <td>17</td>\n",
       "      <td>2.92</td>\n",
       "      <td>M</td>\n",
       "      <td>History</td>\n",
       "      <td>senior</td>\n",
       "    </tr>\n",
       "    <tr>\n",
       "      <th>2</th>\n",
       "      <td>3</td>\n",
       "      <td>17</td>\n",
       "      <td>2.97</td>\n",
       "      <td>F</td>\n",
       "      <td>Physics</td>\n",
       "      <td>senior</td>\n",
       "    </tr>\n",
       "    <tr>\n",
       "      <th>3</th>\n",
       "      <td>4</td>\n",
       "      <td>16</td>\n",
       "      <td>2.76</td>\n",
       "      <td>F</td>\n",
       "      <td>Physics</td>\n",
       "      <td>junior</td>\n",
       "    </tr>\n",
       "    <tr>\n",
       "      <th>4</th>\n",
       "      <td>5</td>\n",
       "      <td>16</td>\n",
       "      <td>2.24</td>\n",
       "      <td>M</td>\n",
       "      <td>Chemistry</td>\n",
       "      <td>junior</td>\n",
       "    </tr>\n",
       "  </tbody>\n",
       "</table>\n",
       "</div>"
      ],
      "text/plain": [
       "   student_id  age   gpa gender      major      year\n",
       "0           1   14   NaN      F  Economics  freshman\n",
       "1           2   17  2.92      M    History    senior\n",
       "2           3   17  2.97      F    Physics    senior\n",
       "3           4   16  2.76      F    Physics    junior\n",
       "4           5   16  2.24      M  Chemistry    junior"
      ]
     },
     "execution_count": 1,
     "metadata": {},
     "output_type": "execute_result"
    }
   ],
   "source": [
    "import pandas as pd\n",
    "df = pd.read_csv(\"../data/students.csv\")\n",
    "df.head()"
   ]
  },
  {
   "cell_type": "markdown",
   "id": "872e27d7",
   "metadata": {},
   "source": [
    "## Task B"
   ]
  },
  {
   "cell_type": "code",
   "execution_count": 2,
   "id": "89d67f59",
   "metadata": {},
   "outputs": [
    {
     "name": "stdout",
     "output_type": "stream",
     "text": [
      "<class 'pandas.core.frame.DataFrame'>\n",
      "RangeIndex: 100 entries, 0 to 99\n",
      "Data columns (total 6 columns):\n",
      " #   Column      Non-Null Count  Dtype  \n",
      "---  ------      --------------  -----  \n",
      " 0   student_id  100 non-null    int64  \n",
      " 1   age         100 non-null    int64  \n",
      " 2   gpa         90 non-null     float64\n",
      " 3   gender      100 non-null    object \n",
      " 4   major       95 non-null     object \n",
      " 5   year        100 non-null    object \n",
      "dtypes: float64(1), int64(2), object(3)\n",
      "memory usage: 4.8+ KB\n",
      "<class 'pandas.core.series.Series'>\n"
     ]
    }
   ],
   "source": [
    "df.info()\n",
    "df.isna().sum()\n",
    "print(type(df[\"major\"]))"
   ]
  },
  {
   "cell_type": "markdown",
   "id": "071aeedf",
   "metadata": {},
   "source": [
    "The column with the most missing values is the GPA column. One reason this might be is because some of the students are too young and don't have a GPA yet. Other reasons include that some students may have chosen to not report their GPA or may not have GPA at their school (if these students are not all from the same school)."
   ]
  },
  {
   "cell_type": "markdown",
   "id": "27cb88d0",
   "metadata": {},
   "source": [
    "## Task C"
   ]
  },
  {
   "cell_type": "code",
   "execution_count": null,
   "id": "e8679eac",
   "metadata": {},
   "outputs": [
    {
     "name": "stdout",
     "output_type": "stream",
     "text": [
      "                 Stat        Age        GPA\n",
      "0               Count  100.00000  90.000000\n",
      "1                Mean   16.13000   2.624667\n",
      "2              Median   16.00000   2.665000\n",
      "3            Variance    1.89202   0.227432\n",
      "4  Standard Deviation   16.13000   2.624667\n",
      "5                 Min   14.00000   1.630000\n",
      "6                 Max   18.00000   3.930000\n"
     ]
    }
   ],
   "source": [
    "age_count = df[\"age\"].count()\n",
    "age_mean = df[\"age\"].mean()\n",
    "age_median = df[\"age\"].median()\n",
    "age_variance = df[\"age\"].var()\n",
    "age_sd = df[\"age\"].std()\n",
    "age_min = df[\"age\"].min()\n",
    "age_max = df[\"age\"].max()\n",
    "\n",
    "\n",
    "\n",
    "gpa_count = df[\"gpa\"].count()\n",
    "gpa_mean = df[\"gpa\"].mean()\n",
    "gpa_median = df[\"gpa\"].median()\n",
    "gpa_variance = df[\"gpa\"].var()\n",
    "gpa_sd = df[\"gpa\"].std()\n",
    "gpa_min = df[\"gpa\"].min()\n",
    "gpa_max = df[\"gpa\"].max()\n",
    "\n",
    "data = {\n",
    "    'Stat': ['Count', 'Mean', 'Median', 'Variance', 'Standard Deviation', 'Min', 'Max'],\n",
    "    'Age': [age_count, age_mean, age_median, age_variance, age_sd, age_min, age_max],\n",
    "    'GPA': [gpa_count, gpa_mean, gpa_median, gpa_variance, gpa_sd, gpa_min, gpa_max]\n",
    "\n",
    "}\n",
    "\n",
    "summary = pd.DataFrame(data)\n",
    "print(summary)"
   ]
  },
  {
   "cell_type": "markdown",
   "id": "d8a4570e",
   "metadata": {},
   "source": [
    "## Task D"
   ]
  },
  {
   "cell_type": "code",
   "execution_count": 4,
   "id": "2ca30f85",
   "metadata": {},
   "outputs": [
    {
     "data": {
      "text/plain": [
       "Text(0.5, 1.0, 'Age Frequencies')"
      ]
     },
     "execution_count": 4,
     "metadata": {},
     "output_type": "execute_result"
    },
    {
     "data": {
      "image/png": "[encoded data removed]",
      "text/plain": [
       "<Figure size 640x480 with 1 Axes>"
      ]
     },
     "metadata": {},
     "output_type": "display_data"
    }
   ],
   "source": [
    "df[\"age\"].hist(bins=range(14, 19), align=\"left\", rwidth=0.8).set_title(\"Age Frequencies\")\n"
   ]
  },
  {
   "cell_type": "code",
   "execution_count": 5,
   "id": "2ad51e4a",
   "metadata": {},
   "outputs": [
    {
     "data": {
      "text/plain": [
       "<Axes: xlabel='gpa', ylabel='Count'>"
      ]
     },
     "execution_count": 5,
     "metadata": {},
     "output_type": "execute_result"
    },
    {
     "data": {
      "image/png": "[encoded data removed]",
      "text/plain": [
       "<Figure size 640x480 with 1 Axes>"
      ]
     },
     "metadata": {},
     "output_type": "display_data"
    }
   ],
   "source": [
    "import seaborn as sns\n",
    "sns.histplot(df[\"gpa\"], kde=True)"
   ]
  },
  {
   "cell_type": "markdown",
   "id": "b77c8d17",
   "metadata": {},
   "source": [
    "#### Interesting Features for Above Graphs\n",
    "\n",
    "The histogram of ages is interesting because it is skewed to the left, showing that there tends to be more older students. The histogram of GPA with seaborn is interesting because it appears to have a large range and have higher frequencies closer to the mean GPA, although it is not quite normal because there are more low GPAs than high GPAs. I also like the design of the seaborn histogram because it shows a line with the histogram for better clarity and interpretability."
   ]
  },
  {
   "cell_type": "markdown",
   "id": "106e80c6",
   "metadata": {},
   "source": [
    "## Task E"
   ]
  },
  {
   "cell_type": "code",
   "execution_count": null,
   "id": "fe776bec",
   "metadata": {},
   "outputs": [
    {
     "name": "stdout",
     "output_type": "stream",
     "text": [
      "0.8786075344584666\n"
     ]
    },
    {
     "data": {
      "image/png": "[encoded data removed]",
      "text/plain": [
       "<Figure size 640x480 with 1 Axes>"
      ]
     },
     "metadata": {},
     "output_type": "display_data"
    }
   ],
   "source": [
    "sns.scatterplot(x=\"age\",y=\"gpa\", data=df)\n",
    "corr = df[\"age\"].corr(df[\"gpa\"])\n",
    "#print(corr)\n",
    "\n",
    "#Observation: the Pearson correlation (r) seems pretty high, the GPA tends to trend up with age in this mini-dataset (positive correlation)"
   ]
  },
  {
   "cell_type": "markdown",
   "id": "2784447f",
   "metadata": {},
   "source": [
    "## Task F"
   ]
  },
  {
   "cell_type": "code",
   "execution_count": 7,
   "id": "12629d11",
   "metadata": {},
   "outputs": [
    {
     "name": "stdout",
     "output_type": "stream",
     "text": [
      "0            economics\n",
      "1              history\n",
      "2              physics\n",
      "3              physics\n",
      "4            chemistry\n",
      "            ...       \n",
      "95                 art\n",
      "96                 art\n",
      "97    computer science\n",
      "98      computer scien\n",
      "99             biology\n",
      "Name: major, Length: 100, dtype: object\n"
     ]
    }
   ],
   "source": [
    "\n",
    "df[\"major\"] = df[\"major\"].str.lower()\n",
    "df[\"major\"] = df[\"major\"].str.strip()\n",
    "df[\"major\"] = df[\"major\"].replace('', pd.NA)\n",
    "df[\"major\"] = df[\"major\"].dropna()\n",
    "print(df[\"major\"])"
   ]
  },
  {
   "cell_type": "markdown",
   "id": "3dc87b3d",
   "metadata": {},
   "source": [
    "## Task G"
   ]
  },
  {
   "cell_type": "code",
   "execution_count": 8,
   "id": "97f6cdd1",
   "metadata": {},
   "outputs": [],
   "source": [
    "df.to_csv(\"../data/students_clean.csv\", index=False)"
   ]
  },
  {
   "cell_type": "markdown",
   "id": "f946134d",
   "metadata": {},
   "source": [
    "### *Conclusion*"
   ]
  },
  {
   "cell_type": "markdown",
   "id": "d87f5719",
   "metadata": {},
   "source": [
    "This lab was a great introduction to data analysis including cleaning and visualizing data. I really enjoyed going step by step plotting the data, analyzing and interpreting it, and then cleaning it to produce a cleaned dataset. Some findings I found interesting:\n",
    "\n",
    "1. Age and GPA have a positive correlation - this does make sense as students get older, they tend to learn more and improve their study skills, helping them improve their grades and their overall academic performance.\n",
    "\n",
    "2. Based on initial impression, the ```sns.histplot``` seems to look more visually appealing than ```df.hist()```. This is because of the labels on the axes, less grid-based design, and matching line that are featured in the seaborn histogram.\n",
    "\n",
    "3. ```pd.NA``` can be used instead of ```np.nan``` (pandas vs numpy) which allows the program to not have to import numpy."
   ]
  }
 ],
 "metadata": {
  "kernelspec": {
   "display_name": "lab_5",
   "language": "python",
   "name": "python3"
  },
  "language_info": {
   "codemirror_mode": {
    "name": "ipython",
    "version": 3
   },
   "file_extension": ".py",
   "mimetype": "text/x-python",
   "name": "python",
   "nbconvert_exporter": "python",
   "pygments_lexer": "ipython3",
   "version": "3.13.5"
  }
 },
 "nbformat": 4,
 "nbformat_minor": 5
}
